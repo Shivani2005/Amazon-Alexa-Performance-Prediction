{
 "cells": [
  {
   "cell_type": "markdown",
   "metadata": {},
   "source": [
    "AMAZON ALEXA PERFORMANCE PREDICTION\n",
    "\n",
    "Author: Shivani Grover\n",
    "    \n",
    "Date: 2/11/2020"
   ]
  },
  {
   "cell_type": "code",
   "execution_count": 2,
   "metadata": {},
   "outputs": [],
   "source": [
    "#### Importing the required libraries \n",
    "\n",
    "import pandas as pd\n",
    "import numpy as np\n",
    "import json\n",
    "import requests\n",
    "from nltk.corpus import stopwords\n",
    "from nltk.tokenize import RegexpTokenizer\n",
    "from nltk.stem import WordNetLemmatizer\n",
    "from sklearn.feature_extraction.text import TfidfVectorizer\n",
    "import string\n",
    "from sklearn.naive_bayes import MultinomialNB\n",
    "from  sklearn.metrics  import accuracy_score\n",
    "from sklearn.metrics import confusion_matrix, classification_report\n",
    "from sklearn.ensemble import RandomForestClassifier"
   ]
  },
  {
   "cell_type": "code",
   "execution_count": 6,
   "metadata": {},
   "outputs": [],
   "source": [
    "import warnings\n",
    "warnings.filterwarnings(\"ignore\")"
   ]
  },
  {
   "cell_type": "code",
   "execution_count": 10,
   "metadata": {},
   "outputs": [],
   "source": [
    "###### Loading the Alexa transcript file\n",
    "with open('C:/Users/garis/Documents/attachments (1)/alexa-prize-topical-chat-dataset-master/conversations/train.json', 'r') as myfile:\n",
    "    data=myfile.read()\n",
    "train = json.loads(data)\n",
    "with open('C:/Users/garis/Documents/attachments (1)/alexa-prize-topical-chat-dataset-master/conversations/test_rare.json', 'r') as myfile:\n",
    "    data_test=myfile.read()\n",
    "test = json.loads(data_test)"
   ]
  },
  {
   "cell_type": "code",
   "execution_count": 11,
   "metadata": {},
   "outputs": [],
   "source": [
    "#function to read json objects\n",
    "def extract_values(obj, key):\n",
    "    \"\"\"Pull all values of specified key from nested JSON.\"\"\"\n",
    "    arr = []\n",
    "\n",
    "    def extract(obj, arr, key):\n",
    "        \"\"\"Recursively search for values of key in JSON tree.\"\"\"\n",
    "        if isinstance(obj, dict):\n",
    "            for k, v in obj.items():\n",
    "                if isinstance(v, (dict, list)):\n",
    "                    extract(v, arr, key)\n",
    "                elif k == key:\n",
    "                    arr.append(v)\n",
    "        elif isinstance(obj, list):\n",
    "            for item in obj:\n",
    "                extract(item, arr, key)\n",
    "        return arr\n",
    "\n",
    "    results = extract(obj, arr, key)\n",
    "    return results"
   ]
  },
  {
   "cell_type": "code",
   "execution_count": 12,
   "metadata": {},
   "outputs": [],
   "source": [
    "#extracting all the desired values\n",
    "message_train = extract_values(train,'message')\n",
    "sentiment_train = extract_values(train,'sentiment')\n",
    "agent_train = extract_values(train,'agent')\n",
    "turn_rating_train = extract_values(train,'turn_rating')\n",
    "\n",
    "\n",
    "#extracting all the desired values\n",
    "message_test = extract_values(test,'message')\n",
    "sentiment_test = extract_values(test,'sentiment')\n",
    "agent_test = extract_values(test,'agent')\n",
    "turn_rating_test = extract_values(test,'turn_rating')"
   ]
  },
  {
   "cell_type": "code",
   "execution_count": 13,
   "metadata": {},
   "outputs": [],
   "source": [
    "#Zipping all the lists together\n",
    "zippedList_train =  list(zip(message_train, sentiment_train, agent_train,turn_rating_train))\n",
    "zippedList_test =  list(zip(message_test, sentiment_test, agent_test,turn_rating_test))"
   ]
  },
  {
   "cell_type": "code",
   "execution_count": 14,
   "metadata": {},
   "outputs": [],
   "source": [
    "#converting list into dataframe\n",
    "newdf_train = pd.DataFrame(zippedList_train)\n",
    "newdf_test = pd.DataFrame(zippedList_test)"
   ]
  },
  {
   "cell_type": "code",
   "execution_count": 15,
   "metadata": {},
   "outputs": [],
   "source": [
    "#changing the column names\n",
    "newdf_train.set_axis(['message','sentiment','agent','turn_rating'],axis=1,inplace=True)\n",
    "newdf_test.set_axis(['message','sentiment','agent','turn_rating'],axis=1,inplace=True)\n"
   ]
  },
  {
   "cell_type": "code",
   "execution_count": 16,
   "metadata": {},
   "outputs": [
    {
     "name": "stdout",
     "output_type": "stream",
     "text": [
      "Train dataset\n",
      "message        0\n",
      "sentiment      0\n",
      "agent          0\n",
      "turn_rating    0\n",
      "dtype: int64\n",
      "Number of datapoints:186625\n"
     ]
    },
    {
     "data": {
      "text/html": [
       "<div>\n",
       "<style scoped>\n",
       "    .dataframe tbody tr th:only-of-type {\n",
       "        vertical-align: middle;\n",
       "    }\n",
       "\n",
       "    .dataframe tbody tr th {\n",
       "        vertical-align: top;\n",
       "    }\n",
       "\n",
       "    .dataframe thead th {\n",
       "        text-align: right;\n",
       "    }\n",
       "</style>\n",
       "<table border=\"1\" class=\"dataframe\">\n",
       "  <thead>\n",
       "    <tr style=\"text-align: right;\">\n",
       "      <th></th>\n",
       "      <th>message</th>\n",
       "      <th>sentiment</th>\n",
       "      <th>agent</th>\n",
       "      <th>turn_rating</th>\n",
       "    </tr>\n",
       "  </thead>\n",
       "  <tbody>\n",
       "    <tr>\n",
       "      <th>count</th>\n",
       "      <td>186625</td>\n",
       "      <td>186625</td>\n",
       "      <td>186625</td>\n",
       "      <td>186625</td>\n",
       "    </tr>\n",
       "    <tr>\n",
       "      <th>unique</th>\n",
       "      <td>182644</td>\n",
       "      <td>8</td>\n",
       "      <td>2</td>\n",
       "      <td>5</td>\n",
       "    </tr>\n",
       "    <tr>\n",
       "      <th>top</th>\n",
       "      <td>Hi, how are you?</td>\n",
       "      <td>Curious to dive deeper</td>\n",
       "      <td>agent_1</td>\n",
       "      <td>Excellent</td>\n",
       "    </tr>\n",
       "    <tr>\n",
       "      <th>freq</th>\n",
       "      <td>317</td>\n",
       "      <td>80250</td>\n",
       "      <td>96293</td>\n",
       "      <td>90343</td>\n",
       "    </tr>\n",
       "  </tbody>\n",
       "</table>\n",
       "</div>"
      ],
      "text/plain": [
       "                 message               sentiment    agent turn_rating\n",
       "count             186625                  186625   186625      186625\n",
       "unique            182644                       8        2           5\n",
       "top     Hi, how are you?  Curious to dive deeper  agent_1   Excellent\n",
       "freq                 317                   80250    96293       90343"
      ]
     },
     "execution_count": 16,
     "metadata": {},
     "output_type": "execute_result"
    }
   ],
   "source": [
    "#### Removing all the null values\n",
    "print(\"Train dataset\")\n",
    "print(newdf_train.isnull().sum())\n",
    "train_clean = newdf_train[newdf_train['turn_rating'] != '']\n",
    "print(\"Number of datapoints:\" + str(len(train_clean)))\n",
    "train_clean.describe()"
   ]
  },
  {
   "cell_type": "code",
   "execution_count": 17,
   "metadata": {},
   "outputs": [
    {
     "name": "stdout",
     "output_type": "stream",
     "text": [
      "Test dataset\n",
      "message        0\n",
      "sentiment      0\n",
      "agent          0\n",
      "turn_rating    0\n",
      "dtype: int64\n",
      "Number of datapoints:11545\n"
     ]
    },
    {
     "data": {
      "text/html": [
       "<div>\n",
       "<style scoped>\n",
       "    .dataframe tbody tr th:only-of-type {\n",
       "        vertical-align: middle;\n",
       "    }\n",
       "\n",
       "    .dataframe tbody tr th {\n",
       "        vertical-align: top;\n",
       "    }\n",
       "\n",
       "    .dataframe thead th {\n",
       "        text-align: right;\n",
       "    }\n",
       "</style>\n",
       "<table border=\"1\" class=\"dataframe\">\n",
       "  <thead>\n",
       "    <tr style=\"text-align: right;\">\n",
       "      <th></th>\n",
       "      <th>message</th>\n",
       "      <th>sentiment</th>\n",
       "      <th>agent</th>\n",
       "      <th>turn_rating</th>\n",
       "    </tr>\n",
       "  </thead>\n",
       "  <tbody>\n",
       "    <tr>\n",
       "      <th>count</th>\n",
       "      <td>11545</td>\n",
       "      <td>11545</td>\n",
       "      <td>11545</td>\n",
       "      <td>11545</td>\n",
       "    </tr>\n",
       "    <tr>\n",
       "      <th>unique</th>\n",
       "      <td>11475</td>\n",
       "      <td>8</td>\n",
       "      <td>2</td>\n",
       "      <td>5</td>\n",
       "    </tr>\n",
       "    <tr>\n",
       "      <th>top</th>\n",
       "      <td>Hi, how are you?</td>\n",
       "      <td>Curious to dive deeper</td>\n",
       "      <td>agent_1</td>\n",
       "      <td>Excellent</td>\n",
       "    </tr>\n",
       "    <tr>\n",
       "      <th>freq</th>\n",
       "      <td>22</td>\n",
       "      <td>4772</td>\n",
       "      <td>5962</td>\n",
       "      <td>5779</td>\n",
       "    </tr>\n",
       "  </tbody>\n",
       "</table>\n",
       "</div>"
      ],
      "text/plain": [
       "                 message               sentiment    agent turn_rating\n",
       "count              11545                   11545    11545       11545\n",
       "unique             11475                       8        2           5\n",
       "top     Hi, how are you?  Curious to dive deeper  agent_1   Excellent\n",
       "freq                  22                    4772     5962        5779"
      ]
     },
     "execution_count": 17,
     "metadata": {},
     "output_type": "execute_result"
    }
   ],
   "source": [
    "print(\"Test dataset\")      \n",
    "print(newdf_test.isnull().sum())\n",
    "test_clean = newdf_test[newdf_test['turn_rating'] != '']\n",
    "print(\"Number of datapoints:\" + str(len(test_clean)))\n",
    "test_clean.describe()"
   ]
  },
  {
   "cell_type": "code",
   "execution_count": 18,
   "metadata": {},
   "outputs": [
    {
     "data": {
      "text/html": [
       "<div>\n",
       "<style scoped>\n",
       "    .dataframe tbody tr th:only-of-type {\n",
       "        vertical-align: middle;\n",
       "    }\n",
       "\n",
       "    .dataframe tbody tr th {\n",
       "        vertical-align: top;\n",
       "    }\n",
       "\n",
       "    .dataframe thead th {\n",
       "        text-align: right;\n",
       "    }\n",
       "</style>\n",
       "<table border=\"1\" class=\"dataframe\">\n",
       "  <thead>\n",
       "    <tr style=\"text-align: right;\">\n",
       "      <th></th>\n",
       "      <th>message</th>\n",
       "      <th>sentiment</th>\n",
       "      <th>agent</th>\n",
       "      <th>turn_rating</th>\n",
       "    </tr>\n",
       "  </thead>\n",
       "  <tbody>\n",
       "    <tr>\n",
       "      <th>0</th>\n",
       "      <td>Are you a fan of Google or Microsoft?</td>\n",
       "      <td>Curious to dive deeper</td>\n",
       "      <td>agent_1</td>\n",
       "      <td>Good</td>\n",
       "    </tr>\n",
       "    <tr>\n",
       "      <th>1</th>\n",
       "      <td>Both are excellent technology they are helpful...</td>\n",
       "      <td>Curious to dive deeper</td>\n",
       "      <td>agent_2</td>\n",
       "      <td>Excellent</td>\n",
       "    </tr>\n",
       "    <tr>\n",
       "      <th>2</th>\n",
       "      <td>I'm not  a huge fan of Google, but I use it a ...</td>\n",
       "      <td>Curious to dive deeper</td>\n",
       "      <td>agent_1</td>\n",
       "      <td>Good</td>\n",
       "    </tr>\n",
       "    <tr>\n",
       "      <th>3</th>\n",
       "      <td>Google provides online related services and pr...</td>\n",
       "      <td>Curious to dive deeper</td>\n",
       "      <td>agent_2</td>\n",
       "      <td>Excellent</td>\n",
       "    </tr>\n",
       "    <tr>\n",
       "      <th>4</th>\n",
       "      <td>Yeah, their services are good. I'm just not a ...</td>\n",
       "      <td>Curious to dive deeper</td>\n",
       "      <td>agent_1</td>\n",
       "      <td>Good</td>\n",
       "    </tr>\n",
       "  </tbody>\n",
       "</table>\n",
       "</div>"
      ],
      "text/plain": [
       "                                             message               sentiment  \\\n",
       "0              Are you a fan of Google or Microsoft?  Curious to dive deeper   \n",
       "1  Both are excellent technology they are helpful...  Curious to dive deeper   \n",
       "2  I'm not  a huge fan of Google, but I use it a ...  Curious to dive deeper   \n",
       "3  Google provides online related services and pr...  Curious to dive deeper   \n",
       "4  Yeah, their services are good. I'm just not a ...  Curious to dive deeper   \n",
       "\n",
       "     agent turn_rating  \n",
       "0  agent_1        Good  \n",
       "1  agent_2   Excellent  \n",
       "2  agent_1        Good  \n",
       "3  agent_2   Excellent  \n",
       "4  agent_1        Good  "
      ]
     },
     "execution_count": 18,
     "metadata": {},
     "output_type": "execute_result"
    }
   ],
   "source": [
    "##### Clean data\n",
    "train_clean.head()"
   ]
  },
  {
   "cell_type": "markdown",
   "metadata": {},
   "source": [
    "EXPLORATORY DATA ANALYSIS"
   ]
  },
  {
   "cell_type": "code",
   "execution_count": 19,
   "metadata": {},
   "outputs": [],
   "source": [
    "#### Segregating data for separate agents \n",
    "agent1 = train_clean.loc[train_clean['agent'] == 'agent_1']\n",
    "agent2 = train_clean.loc[train_clean['agent'] == 'agent_2']"
   ]
  },
  {
   "cell_type": "code",
   "execution_count": 20,
   "metadata": {},
   "outputs": [
    {
     "data": {
      "text/plain": [
       "message        44793\n",
       "sentiment      44793\n",
       "agent          44793\n",
       "turn_rating    44793\n",
       "dtype: int64"
      ]
     },
     "execution_count": 20,
     "metadata": {},
     "output_type": "execute_result"
    }
   ],
   "source": [
    "agent1.loc[agent1['turn_rating']=='Excellent'].count()"
   ]
  },
  {
   "cell_type": "code",
   "execution_count": 91,
   "metadata": {},
   "outputs": [
    {
     "name": "stdout",
     "output_type": "stream",
     "text": [
      "Types of Sentiments\n",
      "['Curious to dive deeper' 'Neutral' 'Surprised' 'Happy' 'Sad' 'Disgusted'\n",
      " 'Fearful' 'Angry']\n",
      "\n",
      "Turn_rating categories\n",
      "['Good' 'Excellent' 'Poor' 'Passable' 'Not Good']\n"
     ]
    }
   ],
   "source": [
    "print(\"Types of Sentiments\")\n",
    "print(agent1.sentiment.unique())\n",
    "print( \"\\nTurn_rating categories\")\n",
    "print(agent1.turn_rating.unique())"
   ]
  },
  {
   "cell_type": "code",
   "execution_count": 22,
   "metadata": {},
   "outputs": [
    {
     "data": {
      "text/plain": [
       "96293"
      ]
     },
     "execution_count": 22,
     "metadata": {},
     "output_type": "execute_result"
    }
   ],
   "source": [
    "len(agent1)"
   ]
  },
  {
   "cell_type": "code",
   "execution_count": 23,
   "metadata": {},
   "outputs": [
    {
     "data": {
      "text/plain": [
       "90332"
      ]
     },
     "execution_count": 23,
     "metadata": {},
     "output_type": "execute_result"
    }
   ],
   "source": [
    "len(agent2)"
   ]
  },
  {
   "cell_type": "code",
   "execution_count": 24,
   "metadata": {},
   "outputs": [
    {
     "data": {
      "text/plain": [
       "5961"
      ]
     },
     "execution_count": 24,
     "metadata": {},
     "output_type": "execute_result"
    }
   ],
   "source": [
    "len(agent1)-len(agent2)"
   ]
  },
  {
   "cell_type": "code",
   "execution_count": 25,
   "metadata": {},
   "outputs": [],
   "source": [
    "##### Calculating the turn rating and sentiments for agent 1 and agent 2 in train file\n",
    "a = agent1.turn_rating.value_counts()\n",
    "b = agent2.turn_rating.value_counts()\n",
    "c = agent1.sentiment.value_counts()\n",
    "d = agent2.sentiment.value_counts()"
   ]
  },
  {
   "cell_type": "code",
   "execution_count": 26,
   "metadata": {},
   "outputs": [
    {
     "name": "stdout",
     "output_type": "stream",
     "text": [
      "46.517400018692946\n",
      "45.70425679955968\n",
      "6.55603211032993\n",
      "0.3541275066723438\n"
     ]
    }
   ],
   "source": [
    "#percentages turker 1\n",
    "excellent1 = (a['Excellent']/len(agent1))*100\n",
    "good1 = (a['Good']/len(agent1))*100\n",
    "Passable1 = (a['Passable']/len(agent1))*100\n",
    "Poor1 = (a['Poor']/len(agent1))*100\n",
    "\n",
    "print(excellent1)\n",
    "print(good1)\n",
    "print(Passable1)\n",
    "print(Poor1)"
   ]
  },
  {
   "cell_type": "code",
   "execution_count": 27,
   "metadata": {},
   "outputs": [
    {
     "name": "stdout",
     "output_type": "stream",
     "text": [
      "50.425098525439495\n",
      "43.94898817694726\n",
      "4.728114068104326\n",
      "0.2369038657397157\n"
     ]
    }
   ],
   "source": [
    "#percentages of turker 2\n",
    "excellent2 = (b['Excellent']/len(agent2))*100\n",
    "good2 = (b['Good']/len(agent2))*100\n",
    "Passable2 = (b['Passable']/len(agent2))*100\n",
    "Poor2 = (b['Poor']/len(agent2))*100\n",
    "\n",
    "print(excellent2)\n",
    "print(good2)\n",
    "print(Passable2)\n",
    "print(Poor2)"
   ]
  },
  {
   "cell_type": "code",
   "execution_count": 28,
   "metadata": {},
   "outputs": [
    {
     "data": {
      "text/html": [
       "<div>\n",
       "<style scoped>\n",
       "    .dataframe tbody tr th:only-of-type {\n",
       "        vertical-align: middle;\n",
       "    }\n",
       "\n",
       "    .dataframe tbody tr th {\n",
       "        vertical-align: top;\n",
       "    }\n",
       "\n",
       "    .dataframe thead th {\n",
       "        text-align: right;\n",
       "    }\n",
       "</style>\n",
       "<table border=\"1\" class=\"dataframe\">\n",
       "  <thead>\n",
       "    <tr style=\"text-align: right;\">\n",
       "      <th></th>\n",
       "      <th>turn_rating</th>\n",
       "      <th>Percentage</th>\n",
       "    </tr>\n",
       "  </thead>\n",
       "  <tbody>\n",
       "    <tr>\n",
       "      <th>0</th>\n",
       "      <td>Excellent</td>\n",
       "      <td>46.517400</td>\n",
       "    </tr>\n",
       "    <tr>\n",
       "      <th>1</th>\n",
       "      <td>good</td>\n",
       "      <td>45.704257</td>\n",
       "    </tr>\n",
       "    <tr>\n",
       "      <th>2</th>\n",
       "      <td>Passable</td>\n",
       "      <td>6.556032</td>\n",
       "    </tr>\n",
       "    <tr>\n",
       "      <th>3</th>\n",
       "      <td>Poor</td>\n",
       "      <td>0.354128</td>\n",
       "    </tr>\n",
       "  </tbody>\n",
       "</table>\n",
       "</div>"
      ],
      "text/plain": [
       "  turn_rating  Percentage\n",
       "0   Excellent   46.517400\n",
       "1        good   45.704257\n",
       "2    Passable    6.556032\n",
       "3        Poor    0.354128"
      ]
     },
     "execution_count": 28,
     "metadata": {},
     "output_type": "execute_result"
    }
   ],
   "source": [
    "# creating data frames for percentages for turn rating for turker 1\n",
    "list1 = ['Excellent','good','Passable','Poor']\n",
    "list2 = [(a['Excellent']/len(agent1))*100,\n",
    "(a['Good']/len(agent1))*100,\n",
    "(a['Passable']/len(agent1))*100,\n",
    "(a['Poor']/len(agent1))*100]\n",
    "\n",
    "comp=pd.DataFrame({'turn_rating':list1,'Percentage':list2})\n",
    "comp"
   ]
  },
  {
   "cell_type": "code",
   "execution_count": 74,
   "metadata": {},
   "outputs": [
    {
     "data": {
      "text/plain": [
       "<matplotlib.axes._subplots.AxesSubplot at 0x29a106b8>"
      ]
     },
     "execution_count": 74,
     "metadata": {},
     "output_type": "execute_result"
    },
    {
     "data": {
      "image/png": "[encoded data removed]",
      "text/plain": [
       "<Figure size 432x288 with 1 Axes>"
      ]
     },
     "metadata": {
      "needs_background": "light"
     },
     "output_type": "display_data"
    }
   ],
   "source": [
    "comp.plot.bar(x='turn_rating', title=\"Percentages for each turn rating for turker-1\")  ### Barplot showing percentages for each type of turn_rating for turk 1"
   ]
  },
  {
   "cell_type": "code",
   "execution_count": 31,
   "metadata": {},
   "outputs": [
    {
     "data": {
      "text/html": [
       "<div>\n",
       "<style scoped>\n",
       "    .dataframe tbody tr th:only-of-type {\n",
       "        vertical-align: middle;\n",
       "    }\n",
       "\n",
       "    .dataframe tbody tr th {\n",
       "        vertical-align: top;\n",
       "    }\n",
       "\n",
       "    .dataframe thead th {\n",
       "        text-align: right;\n",
       "    }\n",
       "</style>\n",
       "<table border=\"1\" class=\"dataframe\">\n",
       "  <thead>\n",
       "    <tr style=\"text-align: right;\">\n",
       "      <th></th>\n",
       "      <th>turn_rating</th>\n",
       "      <th>Percentage</th>\n",
       "    </tr>\n",
       "  </thead>\n",
       "  <tbody>\n",
       "    <tr>\n",
       "      <th>0</th>\n",
       "      <td>Excellent</td>\n",
       "      <td>50.425099</td>\n",
       "    </tr>\n",
       "    <tr>\n",
       "      <th>1</th>\n",
       "      <td>good</td>\n",
       "      <td>43.948988</td>\n",
       "    </tr>\n",
       "    <tr>\n",
       "      <th>2</th>\n",
       "      <td>Passable</td>\n",
       "      <td>4.728114</td>\n",
       "    </tr>\n",
       "    <tr>\n",
       "      <th>3</th>\n",
       "      <td>Poor</td>\n",
       "      <td>0.236904</td>\n",
       "    </tr>\n",
       "  </tbody>\n",
       "</table>\n",
       "</div>"
      ],
      "text/plain": [
       "  turn_rating  Percentage\n",
       "0   Excellent   50.425099\n",
       "1        good   43.948988\n",
       "2    Passable    4.728114\n",
       "3        Poor    0.236904"
      ]
     },
     "execution_count": 31,
     "metadata": {},
     "output_type": "execute_result"
    }
   ],
   "source": [
    "# creating data frames for percentages for turn rating for turker 2\n",
    "list1= ['Excellent','good','Passable','Poor']\n",
    "list2=[(b['Excellent']/len(agent2))*100,\n",
    "(b['Good']/len(agent2))*100,\n",
    "(b['Passable']/len(agent2))*100,\n",
    "(b['Poor']/len(agent2))*100]\n",
    "\n",
    "comp2=pd.DataFrame({'turn_rating':list1,'Percentage':list2})\n",
    "comp2"
   ]
  },
  {
   "cell_type": "code",
   "execution_count": 75,
   "metadata": {},
   "outputs": [
    {
     "data": {
      "text/plain": [
       "<matplotlib.axes._subplots.AxesSubplot at 0x29d1ad78>"
      ]
     },
     "execution_count": 75,
     "metadata": {},
     "output_type": "execute_result"
    },
    {
     "data": {
      "image/png": "[encoded data removed]",
      "text/plain": [
       "<Figure size 432x288 with 1 Axes>"
      ]
     },
     "metadata": {
      "needs_background": "light"
     },
     "output_type": "display_data"
    }
   ],
   "source": [
    "comp2.plot.bar(x='turn_rating', title=\"Percentages for each turn rating for turker-2\")  ### Barplot showing percentages for each type of turn_rating for turk 2"
   ]
  },
  {
   "cell_type": "code",
   "execution_count": 33,
   "metadata": {},
   "outputs": [
    {
     "data": {
      "text/html": [
       "<div>\n",
       "<style scoped>\n",
       "    .dataframe tbody tr th:only-of-type {\n",
       "        vertical-align: middle;\n",
       "    }\n",
       "\n",
       "    .dataframe tbody tr th {\n",
       "        vertical-align: top;\n",
       "    }\n",
       "\n",
       "    .dataframe thead th {\n",
       "        text-align: right;\n",
       "    }\n",
       "</style>\n",
       "<table border=\"1\" class=\"dataframe\">\n",
       "  <thead>\n",
       "    <tr style=\"text-align: right;\">\n",
       "      <th></th>\n",
       "      <th>sentiment</th>\n",
       "      <th>Percentage</th>\n",
       "    </tr>\n",
       "  </thead>\n",
       "  <tbody>\n",
       "    <tr>\n",
       "      <th>0</th>\n",
       "      <td>Curious to dive deeper</td>\n",
       "      <td>45.324167</td>\n",
       "    </tr>\n",
       "    <tr>\n",
       "      <th>1</th>\n",
       "      <td>Neutral</td>\n",
       "      <td>20.309888</td>\n",
       "    </tr>\n",
       "    <tr>\n",
       "      <th>2</th>\n",
       "      <td>Surprised</td>\n",
       "      <td>15.842273</td>\n",
       "    </tr>\n",
       "    <tr>\n",
       "      <th>3</th>\n",
       "      <td>Happy</td>\n",
       "      <td>15.577456</td>\n",
       "    </tr>\n",
       "    <tr>\n",
       "      <th>4</th>\n",
       "      <td>Sad</td>\n",
       "      <td>1.292929</td>\n",
       "    </tr>\n",
       "    <tr>\n",
       "      <th>5</th>\n",
       "      <td>Disgusted</td>\n",
       "      <td>0.711371</td>\n",
       "    </tr>\n",
       "    <tr>\n",
       "      <th>6</th>\n",
       "      <td>Fearful</td>\n",
       "      <td>0.503671</td>\n",
       "    </tr>\n",
       "    <tr>\n",
       "      <th>7</th>\n",
       "      <td>Angry</td>\n",
       "      <td>0.438246</td>\n",
       "    </tr>\n",
       "  </tbody>\n",
       "</table>\n",
       "</div>"
      ],
      "text/plain": [
       "                sentiment  Percentage\n",
       "0  Curious to dive deeper   45.324167\n",
       "1                 Neutral   20.309888\n",
       "2               Surprised   15.842273\n",
       "3                   Happy   15.577456\n",
       "4                     Sad    1.292929\n",
       "5               Disgusted    0.711371\n",
       "6                 Fearful    0.503671\n",
       "7                   Angry    0.438246"
      ]
     },
     "execution_count": 33,
     "metadata": {},
     "output_type": "execute_result"
    }
   ],
   "source": [
    "# creating data frames for percentages for turn rating for turker 1\n",
    "list1=agent1.sentiment.unique()\n",
    "list2=[(c[0]/len(agent1))*100,\n",
    "(c[1]/len(agent1))*100,\n",
    "(c[2]/len(agent1))*100,\n",
    "(c[3]/len(agent1))*100,\n",
    "(c[4]/len(agent1))*100,\n",
    "(c[5]/len(agent1))*100,\n",
    "(c[6]/len(agent1))*100,\n",
    "(c[7]/len(agent1))*100]\n",
    "\n",
    "comp3=pd.DataFrame({'sentiment':list1,'Percentage':list2})\n",
    "comp3"
   ]
  },
  {
   "cell_type": "code",
   "execution_count": 76,
   "metadata": {},
   "outputs": [
    {
     "data": {
      "text/plain": [
       "<matplotlib.axes._subplots.AxesSubplot at 0x1727ac88>"
      ]
     },
     "execution_count": 76,
     "metadata": {},
     "output_type": "execute_result"
    },
    {
     "data": {
      "image/png": "[encoded data removed]",
      "text/plain": [
       "<Figure size 432x288 with 1 Axes>"
      ]
     },
     "metadata": {
      "needs_background": "light"
     },
     "output_type": "display_data"
    }
   ],
   "source": [
    "comp3.plot.bar(x='sentiment',title=\"Percentages for each sentiment for turker-1\")   ### Barplot showing percentages for each type of sentiment for turk 1"
   ]
  },
  {
   "cell_type": "code",
   "execution_count": 35,
   "metadata": {},
   "outputs": [
    {
     "data": {
      "text/html": [
       "<div>\n",
       "<style scoped>\n",
       "    .dataframe tbody tr th:only-of-type {\n",
       "        vertical-align: middle;\n",
       "    }\n",
       "\n",
       "    .dataframe tbody tr th {\n",
       "        vertical-align: top;\n",
       "    }\n",
       "\n",
       "    .dataframe thead th {\n",
       "        text-align: right;\n",
       "    }\n",
       "</style>\n",
       "<table border=\"1\" class=\"dataframe\">\n",
       "  <thead>\n",
       "    <tr style=\"text-align: right;\">\n",
       "      <th></th>\n",
       "      <th>sentiment</th>\n",
       "      <th>Percentage</th>\n",
       "    </tr>\n",
       "  </thead>\n",
       "  <tbody>\n",
       "    <tr>\n",
       "      <th>0</th>\n",
       "      <td>Curious to dive deeper</td>\n",
       "      <td>40.523845</td>\n",
       "    </tr>\n",
       "    <tr>\n",
       "      <th>1</th>\n",
       "      <td>Happy</td>\n",
       "      <td>23.722490</td>\n",
       "    </tr>\n",
       "    <tr>\n",
       "      <th>2</th>\n",
       "      <td>Neutral</td>\n",
       "      <td>16.791392</td>\n",
       "    </tr>\n",
       "    <tr>\n",
       "      <th>3</th>\n",
       "      <td>Surprised</td>\n",
       "      <td>15.708719</td>\n",
       "    </tr>\n",
       "    <tr>\n",
       "      <th>4</th>\n",
       "      <td>Sad</td>\n",
       "      <td>1.398176</td>\n",
       "    </tr>\n",
       "    <tr>\n",
       "      <th>5</th>\n",
       "      <td>Disgusted</td>\n",
       "      <td>0.788204</td>\n",
       "    </tr>\n",
       "    <tr>\n",
       "      <th>6</th>\n",
       "      <td>Fearful</td>\n",
       "      <td>0.577868</td>\n",
       "    </tr>\n",
       "    <tr>\n",
       "      <th>7</th>\n",
       "      <td>Angry</td>\n",
       "      <td>0.489306</td>\n",
       "    </tr>\n",
       "  </tbody>\n",
       "</table>\n",
       "</div>"
      ],
      "text/plain": [
       "                sentiment  Percentage\n",
       "0  Curious to dive deeper   40.523845\n",
       "1                   Happy   23.722490\n",
       "2                 Neutral   16.791392\n",
       "3               Surprised   15.708719\n",
       "4                     Sad    1.398176\n",
       "5               Disgusted    0.788204\n",
       "6                 Fearful    0.577868\n",
       "7                   Angry    0.489306"
      ]
     },
     "execution_count": 35,
     "metadata": {},
     "output_type": "execute_result"
    }
   ],
   "source": [
    "# creating data frames for percentages for turn rating for turker 2\n",
    "list1=agent2.sentiment.unique()\n",
    "list2=[(d[0]/len(agent2))*100,\n",
    "(d[1]/len(agent2))*100,\n",
    "(d[2]/len(agent2))*100,\n",
    "(d[3]/len(agent2))*100,\n",
    "(d[4]/len(agent2))*100,\n",
    "(d[5]/len(agent2))*100,\n",
    "(d[6]/len(agent2))*100,\n",
    "(d[7]/len(agent2))*100]\n",
    "\n",
    "comp4=pd.DataFrame({'sentiment':list1,'Percentage':list2})\n",
    "comp4"
   ]
  },
  {
   "cell_type": "code",
   "execution_count": 77,
   "metadata": {},
   "outputs": [
    {
     "data": {
      "text/plain": [
       "<matplotlib.axes._subplots.AxesSubplot at 0x28c98490>"
      ]
     },
     "execution_count": 77,
     "metadata": {},
     "output_type": "execute_result"
    },
    {
     "data": {
      "image/png": "[encoded data removed]",
      "text/plain": [
       "<Figure size 432x288 with 1 Axes>"
      ]
     },
     "metadata": {
      "needs_background": "light"
     },
     "output_type": "display_data"
    }
   ],
   "source": [
    "comp4.plot.bar(x='sentiment',title=\"Percentages for each sentiment for turker-2\")   ### Barplot showing percentages for each type of sentiment for turk 2"
   ]
  },
  {
   "cell_type": "markdown",
   "metadata": {},
   "source": [
    "TEST FILE"
   ]
  },
  {
   "cell_type": "code",
   "execution_count": 39,
   "metadata": {},
   "outputs": [],
   "source": [
    "#### Segregating data for separate agents \n",
    "\n",
    "agent_test1 = test_clean.loc[test_clean['agent'] == 'agent_1']\n",
    "agent_test2 = test_clean.loc[test_clean['agent'] == 'agent_2']"
   ]
  },
  {
   "cell_type": "code",
   "execution_count": 40,
   "metadata": {},
   "outputs": [
    {
     "data": {
      "text/plain": [
       "message        2828\n",
       "sentiment      2828\n",
       "agent          2828\n",
       "turn_rating    2828\n",
       "dtype: int64"
      ]
     },
     "execution_count": 40,
     "metadata": {},
     "output_type": "execute_result"
    }
   ],
   "source": [
    "agent_test1.loc[agent_test1['turn_rating']=='Excellent'].count()"
   ]
  },
  {
   "cell_type": "code",
   "execution_count": 41,
   "metadata": {},
   "outputs": [
    {
     "data": {
      "text/plain": [
       "array(['Happy', 'Curious to dive deeper', 'Neutral', 'Surprised', 'Sad',\n",
       "       'Disgusted', 'Angry', 'Fearful'], dtype=object)"
      ]
     },
     "execution_count": 41,
     "metadata": {},
     "output_type": "execute_result"
    }
   ],
   "source": [
    "agent_test1.sentiment.unique()"
   ]
  },
  {
   "cell_type": "code",
   "execution_count": 42,
   "metadata": {},
   "outputs": [
    {
     "data": {
      "text/plain": [
       "5962"
      ]
     },
     "execution_count": 42,
     "metadata": {},
     "output_type": "execute_result"
    }
   ],
   "source": [
    "len(agent_test1)"
   ]
  },
  {
   "cell_type": "code",
   "execution_count": 43,
   "metadata": {},
   "outputs": [
    {
     "data": {
      "text/plain": [
       "5583"
      ]
     },
     "execution_count": 43,
     "metadata": {},
     "output_type": "execute_result"
    }
   ],
   "source": [
    "len(agent_test2)"
   ]
  },
  {
   "cell_type": "code",
   "execution_count": 44,
   "metadata": {},
   "outputs": [
    {
     "data": {
      "text/plain": [
       "379"
      ]
     },
     "execution_count": 44,
     "metadata": {},
     "output_type": "execute_result"
    }
   ],
   "source": [
    "len(agent_test1)-len(agent_test2)"
   ]
  },
  {
   "cell_type": "code",
   "execution_count": 45,
   "metadata": {},
   "outputs": [],
   "source": [
    "##### Calculating the turn rating and sentiments for agent 1 and agent 2 in test file\n",
    "a_1=agent_test1.turn_rating.value_counts()\n",
    "b_1=agent_test2.turn_rating.value_counts()\n",
    "c_1=agent_test1.sentiment.value_counts()\n",
    "d_1=agent_test2.sentiment.value_counts()"
   ]
  },
  {
   "cell_type": "code",
   "execution_count": 46,
   "metadata": {},
   "outputs": [
    {
     "name": "stdout",
     "output_type": "stream",
     "text": [
      "47.43374706474338\n",
      "45.27004360952701\n",
      "6.273062730627306\n",
      "0.3522307950352231\n"
     ]
    }
   ],
   "source": [
    "#percentages turker 1 (test)\n",
    "excellent3=(a_1['Excellent']/len(agent_test1))*100\n",
    "good3=(a_1['Good']/len(agent_test1))*100\n",
    "Passable3=(a_1['Passable']/len(agent_test1))*100\n",
    "Poor3=(a_1['Poor']/len(agent_test1))*100\n",
    "\n",
    "print(excellent3)\n",
    "print(good3)\n",
    "print(Passable3)\n",
    "print(Poor3)"
   ]
  },
  {
   "cell_type": "code",
   "execution_count": 47,
   "metadata": {},
   "outputs": [
    {
     "name": "stdout",
     "output_type": "stream",
     "text": [
      "50.425098525439495\n",
      "43.94898817694726\n",
      "4.728114068104326\n",
      "0.2369038657397157\n"
     ]
    }
   ],
   "source": [
    "#percentages of turker 2 (test)\n",
    "excellent4=(b_1['Excellent']/len(agent_test2))*100\n",
    "good4=(b_1['Good']/len(agent_test2))*100\n",
    "Passable4=(b_1['Passable']/len(agent_test2))*100\n",
    "Poor4=(b_1['Poor']/len(agent_test2))*100\n",
    "\n",
    "print(excellent2)\n",
    "print(good2)\n",
    "print(Passable2)\n",
    "print(Poor2)"
   ]
  },
  {
   "cell_type": "code",
   "execution_count": 48,
   "metadata": {},
   "outputs": [
    {
     "data": {
      "text/html": [
       "<div>\n",
       "<style scoped>\n",
       "    .dataframe tbody tr th:only-of-type {\n",
       "        vertical-align: middle;\n",
       "    }\n",
       "\n",
       "    .dataframe tbody tr th {\n",
       "        vertical-align: top;\n",
       "    }\n",
       "\n",
       "    .dataframe thead th {\n",
       "        text-align: right;\n",
       "    }\n",
       "</style>\n",
       "<table border=\"1\" class=\"dataframe\">\n",
       "  <thead>\n",
       "    <tr style=\"text-align: right;\">\n",
       "      <th></th>\n",
       "      <th>turn_rating</th>\n",
       "      <th>Percentage</th>\n",
       "    </tr>\n",
       "  </thead>\n",
       "  <tbody>\n",
       "    <tr>\n",
       "      <th>0</th>\n",
       "      <td>Excellent</td>\n",
       "      <td>751.308286</td>\n",
       "    </tr>\n",
       "    <tr>\n",
       "      <th>1</th>\n",
       "      <td>good</td>\n",
       "      <td>738.175109</td>\n",
       "    </tr>\n",
       "    <tr>\n",
       "      <th>2</th>\n",
       "      <td>Passable</td>\n",
       "      <td>105.887286</td>\n",
       "    </tr>\n",
       "    <tr>\n",
       "      <th>3</th>\n",
       "      <td>Poor</td>\n",
       "      <td>5.719557</td>\n",
       "    </tr>\n",
       "  </tbody>\n",
       "</table>\n",
       "</div>"
      ],
      "text/plain": [
       "  turn_rating  Percentage\n",
       "0   Excellent  751.308286\n",
       "1        good  738.175109\n",
       "2    Passable  105.887286\n",
       "3        Poor    5.719557"
      ]
     },
     "execution_count": 48,
     "metadata": {},
     "output_type": "execute_result"
    }
   ],
   "source": [
    "# creating data frames for percentages for turn rating for turker 1\n",
    "list_test1= ['Excellent','good','Passable','Poor']\n",
    "list_test2=[(a['Excellent']/len(agent_test1))*100,\n",
    "(a['Good']/len(agent_test1))*100,\n",
    "(a['Passable']/len(agent_test1))*100,\n",
    "(a['Poor']/len(agent_test1))*100]\n",
    "\n",
    "comp_test=pd.DataFrame({'turn_rating':list_test1,'Percentage':list_test2})\n",
    "comp_test"
   ]
  },
  {
   "cell_type": "code",
   "execution_count": 80,
   "metadata": {},
   "outputs": [
    {
     "data": {
      "text/plain": [
       "<matplotlib.axes._subplots.AxesSubplot at 0x2cbef5e0>"
      ]
     },
     "execution_count": 80,
     "metadata": {},
     "output_type": "execute_result"
    },
    {
     "data": {
      "image/png": "[encoded data removed]",
      "text/plain": [
       "<Figure size 432x288 with 1 Axes>"
      ]
     },
     "metadata": {
      "needs_background": "light"
     },
     "output_type": "display_data"
    }
   ],
   "source": [
    "comp_test.plot.bar(x='turn_rating',title='percentage of turn rating for each category for turker-1')  ### Barplot showing percentages for each type of turn_rating for turk 1 (test)"
   ]
  },
  {
   "cell_type": "code",
   "execution_count": 50,
   "metadata": {},
   "outputs": [
    {
     "data": {
      "text/html": [
       "<div>\n",
       "<style scoped>\n",
       "    .dataframe tbody tr th:only-of-type {\n",
       "        vertical-align: middle;\n",
       "    }\n",
       "\n",
       "    .dataframe tbody tr th {\n",
       "        vertical-align: top;\n",
       "    }\n",
       "\n",
       "    .dataframe thead th {\n",
       "        text-align: right;\n",
       "    }\n",
       "</style>\n",
       "<table border=\"1\" class=\"dataframe\">\n",
       "  <thead>\n",
       "    <tr style=\"text-align: right;\">\n",
       "      <th></th>\n",
       "      <th>turn_rating</th>\n",
       "      <th>Percentage</th>\n",
       "    </tr>\n",
       "  </thead>\n",
       "  <tbody>\n",
       "    <tr>\n",
       "      <th>0</th>\n",
       "      <td>Excellent</td>\n",
       "      <td>52.856887</td>\n",
       "    </tr>\n",
       "    <tr>\n",
       "      <th>1</th>\n",
       "      <td>good</td>\n",
       "      <td>42.342826</td>\n",
       "    </tr>\n",
       "    <tr>\n",
       "      <th>2</th>\n",
       "      <td>Passable</td>\n",
       "      <td>4.137560</td>\n",
       "    </tr>\n",
       "    <tr>\n",
       "      <th>3</th>\n",
       "      <td>Poor</td>\n",
       "      <td>0.107469</td>\n",
       "    </tr>\n",
       "  </tbody>\n",
       "</table>\n",
       "</div>"
      ],
      "text/plain": [
       "  turn_rating  Percentage\n",
       "0   Excellent   52.856887\n",
       "1        good   42.342826\n",
       "2    Passable    4.137560\n",
       "3        Poor    0.107469"
      ]
     },
     "execution_count": 50,
     "metadata": {},
     "output_type": "execute_result"
    }
   ],
   "source": [
    "# creating data frames for percentages for turn rating for turker 2\n",
    "list_test1= ['Excellent','good','Passable','Poor']\n",
    "list_test2=[(b_1['Excellent']/len(agent_test2))*100,\n",
    "(b_1['Good']/len(agent_test2))*100,\n",
    "(b_1['Passable']/len(agent_test2))*100,\n",
    "(b_1['Poor']/len(agent_test2))*100]\n",
    "\n",
    "comp_test2=pd.DataFrame({'turn_rating':list_test1,'Percentage':list_test2})\n",
    "comp_test2"
   ]
  },
  {
   "cell_type": "code",
   "execution_count": 81,
   "metadata": {},
   "outputs": [
    {
     "data": {
      "text/plain": [
       "<matplotlib.axes._subplots.AxesSubplot at 0x2cbd3ac0>"
      ]
     },
     "execution_count": 81,
     "metadata": {},
     "output_type": "execute_result"
    },
    {
     "data": {
      "image/png": "[encoded data removed]",
      "text/plain": [
       "<Figure size 432x288 with 1 Axes>"
      ]
     },
     "metadata": {
      "needs_background": "light"
     },
     "output_type": "display_data"
    }
   ],
   "source": [
    "comp_test2.plot.bar(x='turn_rating',title='percentage of turn rating for each category for turker-2') ### Barplot showing percentages for each type of turn_rating for turk 2 (test)"
   ]
  },
  {
   "cell_type": "code",
   "execution_count": 82,
   "metadata": {},
   "outputs": [
    {
     "data": {
      "text/html": [
       "<div>\n",
       "<style scoped>\n",
       "    .dataframe tbody tr th:only-of-type {\n",
       "        vertical-align: middle;\n",
       "    }\n",
       "\n",
       "    .dataframe tbody tr th {\n",
       "        vertical-align: top;\n",
       "    }\n",
       "\n",
       "    .dataframe thead th {\n",
       "        text-align: right;\n",
       "    }\n",
       "</style>\n",
       "<table border=\"1\" class=\"dataframe\">\n",
       "  <thead>\n",
       "    <tr style=\"text-align: right;\">\n",
       "      <th></th>\n",
       "      <th>sentiment</th>\n",
       "      <th>Percentage</th>\n",
       "    </tr>\n",
       "  </thead>\n",
       "  <tbody>\n",
       "    <tr>\n",
       "      <th>0</th>\n",
       "      <td>Happy</td>\n",
       "      <td>42.569608</td>\n",
       "    </tr>\n",
       "    <tr>\n",
       "      <th>1</th>\n",
       "      <td>Curious to dive deeper</td>\n",
       "      <td>20.546796</td>\n",
       "    </tr>\n",
       "    <tr>\n",
       "      <th>2</th>\n",
       "      <td>Neutral</td>\n",
       "      <td>18.383093</td>\n",
       "    </tr>\n",
       "    <tr>\n",
       "      <th>3</th>\n",
       "      <td>Surprised</td>\n",
       "      <td>16.252935</td>\n",
       "    </tr>\n",
       "    <tr>\n",
       "      <th>4</th>\n",
       "      <td>Sad</td>\n",
       "      <td>1.039919</td>\n",
       "    </tr>\n",
       "    <tr>\n",
       "      <th>5</th>\n",
       "      <td>Disgusted</td>\n",
       "      <td>0.519960</td>\n",
       "    </tr>\n",
       "    <tr>\n",
       "      <th>6</th>\n",
       "      <td>Angry</td>\n",
       "      <td>0.352231</td>\n",
       "    </tr>\n",
       "    <tr>\n",
       "      <th>7</th>\n",
       "      <td>Fearful</td>\n",
       "      <td>0.335458</td>\n",
       "    </tr>\n",
       "  </tbody>\n",
       "</table>\n",
       "</div>"
      ],
      "text/plain": [
       "                sentiment  Percentage\n",
       "0                   Happy   42.569608\n",
       "1  Curious to dive deeper   20.546796\n",
       "2                 Neutral   18.383093\n",
       "3               Surprised   16.252935\n",
       "4                     Sad    1.039919\n",
       "5               Disgusted    0.519960\n",
       "6                   Angry    0.352231\n",
       "7                 Fearful    0.335458"
      ]
     },
     "execution_count": 82,
     "metadata": {},
     "output_type": "execute_result"
    }
   ],
   "source": [
    "# creating data frames for percentages for turn rating for turker 1\n",
    "list_test1=agent_test1.sentiment.unique()\n",
    "list_test2=[(c_1[0]/len(agent_test1))*100,\n",
    "(c_1[1]/len(agent_test1))*100,\n",
    "(c_1[2]/len(agent_test1))*100,\n",
    "(c_1[3]/len(agent_test1))*100,\n",
    "(c_1[4]/len(agent_test1))*100,\n",
    "(c_1[5]/len(agent_test1))*100,\n",
    "(c_1[6]/len(agent_test1))*100,\n",
    "(c_1[7]/len(agent_test1))*100]\n",
    "\n",
    "comp_test3=pd.DataFrame({'sentiment':list_test1,'Percentage':list_test2})\n",
    "comp_test3"
   ]
  },
  {
   "cell_type": "code",
   "execution_count": 83,
   "metadata": {},
   "outputs": [
    {
     "data": {
      "text/plain": [
       "<matplotlib.axes._subplots.AxesSubplot at 0x2597b370>"
      ]
     },
     "execution_count": 83,
     "metadata": {},
     "output_type": "execute_result"
    },
    {
     "data": {
      "image/png": "[encoded data removed]",
      "text/plain": [
       "<Figure size 432x288 with 1 Axes>"
      ]
     },
     "metadata": {
      "needs_background": "light"
     },
     "output_type": "display_data"
    }
   ],
   "source": [
    "comp_test3.plot.bar(x='sentiment',title='percentage of sentiment for each category for turker-1') ### Barplot showing percentages for each type of sentiment for turk 1 (test)"
   ]
  },
  {
   "cell_type": "code",
   "execution_count": 54,
   "metadata": {},
   "outputs": [
    {
     "data": {
      "text/html": [
       "<div>\n",
       "<style scoped>\n",
       "    .dataframe tbody tr th:only-of-type {\n",
       "        vertical-align: middle;\n",
       "    }\n",
       "\n",
       "    .dataframe tbody tr th {\n",
       "        vertical-align: top;\n",
       "    }\n",
       "\n",
       "    .dataframe thead th {\n",
       "        text-align: right;\n",
       "    }\n",
       "</style>\n",
       "<table border=\"1\" class=\"dataframe\">\n",
       "  <thead>\n",
       "    <tr style=\"text-align: right;\">\n",
       "      <th></th>\n",
       "      <th>sentiment</th>\n",
       "      <th>Percentage</th>\n",
       "    </tr>\n",
       "  </thead>\n",
       "  <tbody>\n",
       "    <tr>\n",
       "      <th>0</th>\n",
       "      <td>Happy</td>\n",
       "      <td>40.014329</td>\n",
       "    </tr>\n",
       "    <tr>\n",
       "      <th>1</th>\n",
       "      <td>Neutral</td>\n",
       "      <td>22.013255</td>\n",
       "    </tr>\n",
       "    <tr>\n",
       "      <th>2</th>\n",
       "      <td>Surprised</td>\n",
       "      <td>19.254881</td>\n",
       "    </tr>\n",
       "    <tr>\n",
       "      <th>3</th>\n",
       "      <td>Curious to dive deeper</td>\n",
       "      <td>16.854738</td>\n",
       "    </tr>\n",
       "    <tr>\n",
       "      <th>4</th>\n",
       "      <td>Angry</td>\n",
       "      <td>0.806018</td>\n",
       "    </tr>\n",
       "    <tr>\n",
       "      <th>5</th>\n",
       "      <td>Sad</td>\n",
       "      <td>0.429876</td>\n",
       "    </tr>\n",
       "    <tr>\n",
       "      <th>6</th>\n",
       "      <td>Fearful</td>\n",
       "      <td>0.358230</td>\n",
       "    </tr>\n",
       "    <tr>\n",
       "      <th>7</th>\n",
       "      <td>Disgusted</td>\n",
       "      <td>0.268673</td>\n",
       "    </tr>\n",
       "  </tbody>\n",
       "</table>\n",
       "</div>"
      ],
      "text/plain": [
       "                sentiment  Percentage\n",
       "0                   Happy   40.014329\n",
       "1                 Neutral   22.013255\n",
       "2               Surprised   19.254881\n",
       "3  Curious to dive deeper   16.854738\n",
       "4                   Angry    0.806018\n",
       "5                     Sad    0.429876\n",
       "6                 Fearful    0.358230\n",
       "7               Disgusted    0.268673"
      ]
     },
     "execution_count": 54,
     "metadata": {},
     "output_type": "execute_result"
    }
   ],
   "source": [
    "list_test1=agent_test2.sentiment.unique()\n",
    "list_test2=[(d_1[0]/len(agent_test2))*100,\n",
    "(d_1[1]/len(agent_test2))*100,\n",
    "(d_1[2]/len(agent_test2))*100,\n",
    "(d_1[3]/len(agent_test2))*100,\n",
    "(d_1[4]/len(agent_test2))*100,\n",
    "(d_1[5]/len(agent_test2))*100,\n",
    "(d_1[6]/len(agent_test2))*100,\n",
    "(d_1[7]/len(agent_test2))*100]\n",
    "\n",
    "comp_test4=pd.DataFrame({'sentiment':list_test1,'Percentage':list_test2})\n",
    "comp_test4"
   ]
  },
  {
   "cell_type": "code",
   "execution_count": 84,
   "metadata": {},
   "outputs": [
    {
     "data": {
      "text/plain": [
       "<matplotlib.axes._subplots.AxesSubplot at 0x2597c568>"
      ]
     },
     "execution_count": 84,
     "metadata": {},
     "output_type": "execute_result"
    },
    {
     "data": {
      "image/png": "[encoded data removed]",
      "text/plain": [
       "<Figure size 432x288 with 1 Axes>"
      ]
     },
     "metadata": {
      "needs_background": "light"
     },
     "output_type": "display_data"
    }
   ],
   "source": [
    "comp_test4.plot.bar(x='sentiment',title='percentage of sentiment for each category for turker-2')  ### Barplot showing percentages for each type of sentiment for turk 2 (test)"
   ]
  },
  {
   "cell_type": "markdown",
   "metadata": {},
   "source": [
    "NLP"
   ]
  },
  {
   "cell_type": "code",
   "execution_count": 60,
   "metadata": {},
   "outputs": [],
   "source": [
    "#########  Creating Functions to remove unwanted words, punctuation, and lemmatize the messages \n",
    "\n",
    "def remove_punct (text):\n",
    "    no_punc = [c for c in text if c.isalpha()]\n",
    "    return no_punc\n",
    "\n",
    "stop_words = set(stopwords.words('english')) \n",
    "def stop(text):\n",
    "    words = [w for w in text if w not in stop_words]\n",
    "    return words\n",
    "\n",
    "def lemma(text):\n",
    "    lem = \" \".join([WordNetLemmatizer().lemmatize(i) for i in text])\n",
    "    return lem"
   ]
  },
  {
   "cell_type": "code",
   "execution_count": 61,
   "metadata": {},
   "outputs": [
    {
     "name": "stdout",
     "output_type": "stream",
     "text": [
      "                                             message               sentiment  \\\n",
      "0                           Are fan Google Microsoft  Curious to dive deeper   \n",
      "1  Both excellent technology helpful many way For...  Curious to dive deeper   \n",
      "2  I huge fan Google I use lot I I think monopoly...  Curious to dive deeper   \n",
      "3  Google provides online related service product...  Curious to dive deeper   \n",
      "4    Yeah service good I fan intrusive personal life  Curious to dive deeper   \n",
      "\n",
      "     agent turn_rating  \n",
      "0  agent_1        Good  \n",
      "1  agent_2   Excellent  \n",
      "2  agent_1        Good  \n",
      "3  agent_2   Excellent  \n",
      "4  agent_1        Good  \n"
     ]
    }
   ],
   "source": [
    "#######  Tokenizing and removing stop words, punctuations, and lemmatizing the messages in train file\n",
    "\n",
    "tokenizer = RegexpTokenizer(r'\\w+')\n",
    "train_clean[\"message\"] = train_clean[\"message\"].apply(lambda x: tokenizer.tokenize(x))\n",
    "\n",
    "train_clean[\"message\"] = train_clean[\"message\"].apply(lambda x:remove_punct(x))\n",
    "\n",
    "train_clean[\"message\"] = train_clean[\"message\"].apply(lambda x:stop(x))\n",
    "\n",
    "train_clean[\"message\"] = train_clean[\"message\"].apply(lambda x: lemma(x))\n",
    "print(train_clean.head())"
   ]
  },
  {
   "cell_type": "code",
   "execution_count": 62,
   "metadata": {},
   "outputs": [
    {
     "name": "stdout",
     "output_type": "stream",
     "text": [
      "                                             message            sentiment  \\\n",
      "0                           Are fan Google Microsoft  Curious dive deeper   \n",
      "1  Both excellent technology helpful many way For...  Curious dive deeper   \n",
      "2  I huge fan Google I use lot I I think monopoly...  Curious dive deeper   \n",
      "3  Google provides online related service product...  Curious dive deeper   \n",
      "4    Yeah service good I fan intrusive personal life  Curious dive deeper   \n",
      "\n",
      "     agent turn_rating  \n",
      "0  agent_1        Good  \n",
      "1  agent_2   Excellent  \n",
      "2  agent_1        Good  \n",
      "3  agent_2   Excellent  \n",
      "4  agent_1        Good  \n"
     ]
    }
   ],
   "source": [
    "#######  Tokenizing and removing stop words, punctuations, and lemmatizing the sentiments in train file\n",
    "\n",
    "train_clean[\"sentiment\"] = train_clean[\"sentiment\"].apply(lambda x: tokenizer.tokenize(x))\n",
    "\n",
    "train_clean[\"sentiment\"] = train_clean[\"sentiment\"].apply(lambda x:remove_punct(x))\n",
    "\n",
    "train_clean[\"sentiment\"] = train_clean[\"sentiment\"].apply(lambda x:stop(x))\n",
    "\n",
    "train_clean[\"sentiment\"] = train_clean[\"sentiment\"].apply(lambda x: lemma(x))\n",
    "print(train_clean.head())"
   ]
  },
  {
   "cell_type": "code",
   "execution_count": 63,
   "metadata": {},
   "outputs": [
    {
     "name": "stdout",
     "output_type": "stream",
     "text": [
      "                                             message               sentiment  \\\n",
      "0                           Hello Do like rock music                   Happy   \n",
      "1                 Hi I love rock music I think since                   Happy   \n",
      "2  Yeah definitely classic great genre White snak...                   Happy   \n",
      "3                     I know The list wikipedia page                 Neutral   \n",
      "4  I wonder many people ended leaving joining ban...  Curious to dive deeper   \n",
      "\n",
      "     agent turn_rating  \n",
      "0  agent_1        Good  \n",
      "1  agent_2   Excellent  \n",
      "2  agent_1        Good  \n",
      "3  agent_2   Excellent  \n",
      "4  agent_1        Good  \n"
     ]
    }
   ],
   "source": [
    "#######  Tokenizing and removing stop words, punctuations, and lemmatizing the messages in test file\n",
    "\n",
    "test_clean[\"message\"] = test_clean[\"message\"].apply(lambda x: tokenizer.tokenize(x))\n",
    "\n",
    "test_clean[\"message\"] = test_clean[\"message\"].apply(lambda x:remove_punct(x))\n",
    "\n",
    "test_clean[\"message\"] = test_clean[\"message\"].apply(lambda x:stop(x))\n",
    "\n",
    "test_clean[\"message\"] = test_clean[\"message\"].apply(lambda x: lemma(x))\n",
    "print(test_clean.head())"
   ]
  },
  {
   "cell_type": "code",
   "execution_count": 64,
   "metadata": {},
   "outputs": [
    {
     "name": "stdout",
     "output_type": "stream",
     "text": [
      "                                             message            sentiment  \\\n",
      "0                           Hello Do like rock music                Happy   \n",
      "1                 Hi I love rock music I think since                Happy   \n",
      "2  Yeah definitely classic great genre White snak...                Happy   \n",
      "3                     I know The list wikipedia page              Neutral   \n",
      "4  I wonder many people ended leaving joining ban...  Curious dive deeper   \n",
      "\n",
      "     agent turn_rating  \n",
      "0  agent_1        Good  \n",
      "1  agent_2   Excellent  \n",
      "2  agent_1        Good  \n",
      "3  agent_2   Excellent  \n",
      "4  agent_1        Good  \n"
     ]
    }
   ],
   "source": [
    "#######  Tokenizing and removing stop words, punctuations, and lemmatizing the sentiments in test file\n",
    "\n",
    "test_clean[\"sentiment\"] = test_clean[\"sentiment\"].apply(lambda x: tokenizer.tokenize(x))\n",
    "\n",
    "test_clean[\"sentiment\"] = test_clean[\"sentiment\"].apply(lambda x:remove_punct(x))\n",
    "\n",
    "test_clean[\"sentiment\"] = test_clean[\"sentiment\"].apply(lambda x:stop(x))\n",
    "\n",
    "test_clean[\"sentiment\"] = test_clean[\"sentiment\"].apply(lambda x: lemma(x))\n",
    "print(test_clean.head())"
   ]
  },
  {
   "cell_type": "code",
   "execution_count": 65,
   "metadata": {},
   "outputs": [],
   "source": [
    "#count number of punctuation in text\n",
    "\n",
    "train_clean['message_len'] = train_clean['message'].apply(lambda x: len(x) - x.count(\" \"))"
   ]
  },
  {
   "cell_type": "code",
   "execution_count": 67,
   "metadata": {},
   "outputs": [
    {
     "data": {
      "image/png": "[encoded data removed]",
      "text/plain": [
       "<Figure size 432x288 with 1 Axes>"
      ]
     },
     "metadata": {
      "needs_background": "light"
     },
     "output_type": "display_data"
    }
   ],
   "source": [
    "######  Histogram for message length per Tuker\n",
    "import matplotlib.pyplot as plt\n",
    "bins = np.linspace(0, 200, 40)\n",
    "plt.hist(train_clean[train_clean['agent']=='agent_1']['message_len'], bins, alpha=0.5, normed=True, label='agent_1')\n",
    "plt.hist(train_clean[train_clean['agent']=='agent_2']['message_len'], bins, alpha=0.5, normed=True, label='agent_2')\n",
    "plt.xlabel(\"Message Length\")\n",
    "plt.ylabel(\"Probability of occurence\")\n",
    "plt.title(\"Histogram for message length per Tuker\")\n",
    "plt.legend(loc='upper right')\n",
    "plt.show()"
   ]
  },
  {
   "cell_type": "code",
   "execution_count": 68,
   "metadata": {},
   "outputs": [
    {
     "name": "stdout",
     "output_type": "stream",
     "text": [
      "(186625, 32438)\n",
      "(11545, 32438)\n"
     ]
    }
   ],
   "source": [
    "########  Applying TFIDF on the messages of both train and test files\n",
    "\n",
    "tfidf = TfidfVectorizer()\n",
    "df_vector_1 = tfidf.fit_transform(train_clean['message'].values)\n",
    "df_vector_test_1 = tfidf.transform(test_clean['message'])\n",
    "print(df_vector_1.shape)\n",
    "print(df_vector_test_1.shape)"
   ]
  },
  {
   "cell_type": "code",
   "execution_count": 69,
   "metadata": {},
   "outputs": [
    {
     "name": "stdout",
     "output_type": "stream",
     "text": [
      "0.4949328713728887\n"
     ]
    }
   ],
   "source": [
    "########## Applying Naive Bayes algorithm with turn_rating as the target\n",
    "\n",
    "clf = MultinomialNB().fit(df_vector_1, train_clean['turn_rating'])\n",
    "predicted = clf.predict(df_vector_test_1)\n",
    "print(accuracy_score(test_clean['turn_rating'],predicted))"
   ]
  },
  {
   "cell_type": "code",
   "execution_count": 70,
   "metadata": {},
   "outputs": [
    {
     "data": {
      "text/plain": [
       "array([[3606, 2171,    0,    2,    0],\n",
       "       [2955, 2108,    0,    0,    0],\n",
       "       [  45,   26,    0,    0,    0],\n",
       "       [ 351,  254,    0,    0,    0],\n",
       "       [  14,   13,    0,    0,    0]], dtype=int64)"
      ]
     },
     "execution_count": 70,
     "metadata": {},
     "output_type": "execute_result"
    }
   ],
   "source": [
    "#### Confusion for predictions using Naive Bayes on turn_rating as target \n",
    "\n",
    "confusion_matrix(test_clean['turn_rating'], predicted)"
   ]
  },
  {
   "cell_type": "code",
   "execution_count": 96,
   "metadata": {},
   "outputs": [
    {
     "name": "stdout",
     "output_type": "stream",
     "text": [
      "              precision    recall  f1-score   support\n",
      "\n",
      "   Excellent       0.52      0.62      0.57      5779\n",
      "        Good       0.46      0.42      0.44      5063\n",
      "    Not Good       0.00      0.00      0.00        71\n",
      "    Passable       0.00      0.00      0.00       605\n",
      "        Poor       0.00      0.00      0.00        27\n",
      "\n",
      "    accuracy                           0.49     11545\n",
      "   macro avg       0.20      0.21      0.20     11545\n",
      "weighted avg       0.46      0.49      0.48     11545\n",
      "\n"
     ]
    }
   ],
   "source": [
    "print(classification_report(test_clean['turn_rating'], predicted))"
   ]
  },
  {
   "cell_type": "code",
   "execution_count": 98,
   "metadata": {},
   "outputs": [
    {
     "name": "stdout",
     "output_type": "stream",
     "text": [
      "0.4312689475963621\n"
     ]
    }
   ],
   "source": [
    "########## Applying Naive Bayes algorithm with sentiment as the target\n",
    "\n",
    "clf_1 = MultinomialNB().fit(df_vector_1, train_clean['sentiment'])\n",
    "predicted_1 = clf_1.predict(df_vector_test_1)\n",
    "print(accuracy_score(test_clean['sentiment'],predicted_1))"
   ]
  },
  {
   "cell_type": "code",
   "execution_count": 99,
   "metadata": {},
   "outputs": [
    {
     "data": {
      "text/plain": [
       "array([[   0,   36,    0,    0,    0,    5,    0,    0],\n",
       "       [   0, 4521,    0,    0,   45,  165,    0,   41],\n",
       "       [   0,   45,    0,    0,    0,   10,    0,    0],\n",
       "       [   0,   34,    0,    0,    0,    1,    0,    0],\n",
       "       [   0, 1769,    0,    0,  122,  134,    0,   12],\n",
       "       [   0, 2086,    0,    0,   65,  282,    0,   21],\n",
       "       [   0,  100,    0,    0,    0,    6,    0,    1],\n",
       "       [   0, 1886,    0,    0,   26,   78,    0,   54]], dtype=int64)"
      ]
     },
     "execution_count": 99,
     "metadata": {},
     "output_type": "execute_result"
    }
   ],
   "source": [
    "#### Confusion for predictions using Naive Bayes on sentiment as target\n",
    "\n",
    "confusion_matrix(test_clean['sentiment'],predicted_1)"
   ]
  },
  {
   "cell_type": "code",
   "execution_count": 100,
   "metadata": {},
   "outputs": [
    {
     "name": "stdout",
     "output_type": "stream",
     "text": [
      "                     precision    recall  f1-score   support\n",
      "\n",
      "              Angry       0.00      0.00      0.00        41\n",
      "Curious dive deeper       0.43      0.95      0.59      4772\n",
      "          Disgusted       0.00      0.00      0.00        55\n",
      "            Fearful       0.00      0.00      0.00        35\n",
      "              Happy       0.47      0.06      0.11      2037\n",
      "            Neutral       0.41      0.11      0.18      2454\n",
      "                Sad       0.00      0.00      0.00       107\n",
      "          Surprised       0.42      0.03      0.05      2044\n",
      "\n",
      "           accuracy                           0.43     11545\n",
      "          macro avg       0.22      0.14      0.12     11545\n",
      "       weighted avg       0.42      0.43      0.31     11545\n",
      "\n"
     ]
    }
   ],
   "source": [
    "print(classification_report(test_clean['sentiment'], predicted_1))"
   ]
  },
  {
   "cell_type": "code",
   "execution_count": 101,
   "metadata": {},
   "outputs": [
    {
     "name": "stdout",
     "output_type": "stream",
     "text": [
      "0.4880034647033348\n"
     ]
    }
   ],
   "source": [
    "########## Applying Random Forest Classifier algorithm with turn_rating as the target\n",
    "\n",
    "RF_clf = RandomForestClassifier(n_estimators=10)\n",
    "RF_clf.fit(df_vector_1, train_clean['turn_rating'])\n",
    "predicted_rf = RF_clf.predict(df_vector_test_1)\n",
    "print(accuracy_score(test_clean['turn_rating'],predicted_rf))"
   ]
  },
  {
   "cell_type": "code",
   "execution_count": 102,
   "metadata": {},
   "outputs": [
    {
     "data": {
      "text/plain": [
       "array([[3528, 2234,    1,   16,    0],\n",
       "       [2944, 2098,    0,   20,    1],\n",
       "       [  41,   30,    0,    0,    0],\n",
       "       [ 350,  246,    1,    8,    0],\n",
       "       [   8,   18,    0,    1,    0]], dtype=int64)"
      ]
     },
     "execution_count": 102,
     "metadata": {},
     "output_type": "execute_result"
    }
   ],
   "source": [
    "#### Confusion for predictions using Random Forest Classifier on turn_rating as target\n",
    "\n",
    "confusion_matrix(test_clean['turn_rating'], predicted_rf)"
   ]
  },
  {
   "cell_type": "code",
   "execution_count": 103,
   "metadata": {},
   "outputs": [
    {
     "name": "stdout",
     "output_type": "stream",
     "text": [
      "              precision    recall  f1-score   support\n",
      "\n",
      "   Excellent       0.51      0.61      0.56      5779\n",
      "        Good       0.45      0.41      0.43      5063\n",
      "    Not Good       0.00      0.00      0.00        71\n",
      "    Passable       0.18      0.01      0.02       605\n",
      "        Poor       0.00      0.00      0.00        27\n",
      "\n",
      "    accuracy                           0.49     11545\n",
      "   macro avg       0.23      0.21      0.20     11545\n",
      "weighted avg       0.47      0.49      0.47     11545\n",
      "\n"
     ]
    }
   ],
   "source": [
    "print(classification_report(test_clean['turn_rating'], predicted_rf))"
   ]
  },
  {
   "cell_type": "code",
   "execution_count": 104,
   "metadata": {},
   "outputs": [
    {
     "name": "stdout",
     "output_type": "stream",
     "text": [
      "0.44963187527067994\n"
     ]
    }
   ],
   "source": [
    "########## Applying Random Forest Classifier algorithm with sentiment as the target\n",
    "\n",
    "RF_clf_1 = RandomForestClassifier(n_estimators=10)\n",
    "RF_clf_1.fit(df_vector_1, train_clean['sentiment'])\n",
    "predicted_rf_1 = RF_clf_1.predict(df_vector_test_1)\n",
    "print(accuracy_score(test_clean['sentiment'],predicted_rf_1))"
   ]
  },
  {
   "cell_type": "code",
   "execution_count": 105,
   "metadata": {},
   "outputs": [
    {
     "data": {
      "text/plain": [
       "array([[   0,   31,    0,    0,    1,    6,    0,    3],\n",
       "       [   1, 3952,    0,    0,  217,  440,    3,  159],\n",
       "       [   0,   43,    0,    0,    2,    9,    0,    1],\n",
       "       [   0,   23,    0,    0,    3,    8,    0,    1],\n",
       "       [   0, 1313,    0,    0,  312,  307,    3,  102],\n",
       "       [   2, 1552,    1,    0,  144,  655,    1,   99],\n",
       "       [   0,   74,    0,    0,    8,   17,    4,    4],\n",
       "       [   0, 1390,    0,    0,  130,  255,    1,  268]], dtype=int64)"
      ]
     },
     "execution_count": 105,
     "metadata": {},
     "output_type": "execute_result"
    }
   ],
   "source": [
    "#### Confusion for predictions using Random Forest Classifier on sentiment as target\n",
    "\n",
    "confusion_matrix(test_clean['sentiment'], predicted_rf_1)"
   ]
  },
  {
   "cell_type": "code",
   "execution_count": 106,
   "metadata": {},
   "outputs": [
    {
     "name": "stdout",
     "output_type": "stream",
     "text": [
      "                     precision    recall  f1-score   support\n",
      "\n",
      "              Angry       0.00      0.00      0.00        41\n",
      "Curious dive deeper       0.47      0.83      0.60      4772\n",
      "          Disgusted       0.00      0.00      0.00        55\n",
      "            Fearful       0.00      0.00      0.00        35\n",
      "              Happy       0.38      0.15      0.22      2037\n",
      "            Neutral       0.39      0.27      0.32      2454\n",
      "                Sad       0.33      0.04      0.07       107\n",
      "          Surprised       0.42      0.13      0.20      2044\n",
      "\n",
      "           accuracy                           0.45     11545\n",
      "          macro avg       0.25      0.18      0.18     11545\n",
      "       weighted avg       0.42      0.45      0.39     11545\n",
      "\n"
     ]
    }
   ],
   "source": [
    "print(classification_report(test_clean['sentiment'], predicted_rf_1))"
   ]
  }
 ],
 "metadata": {
  "kernelspec": {
   "display_name": "Python 3",
   "language": "python",
   "name": "python3"
  },
  "language_info": {
   "codemirror_mode": {
    "name": "ipython",
    "version": 3
   },
   "file_extension": ".py",
   "mimetype": "text/x-python",
   "name": "python",
   "nbconvert_exporter": "python",
   "pygments_lexer": "ipython3",
   "version": "3.7.3"
  }
 },
 "nbformat": 4,
 "nbformat_minor": 2
}
